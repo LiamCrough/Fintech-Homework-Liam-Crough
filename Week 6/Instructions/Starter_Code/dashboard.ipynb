{
 "cells": [
  {
   "cell_type": "markdown",
   "metadata": {},
   "source": [
    "# Toronto Dwellings Analysis Dashboard\n",
    "\n",
    "In this notebook, you will compile the visualizations from the previous analysis into functions to create a Panel dashboard."
   ]
  },
  {
   "cell_type": "code",
   "execution_count": null,
   "metadata": {},
   "outputs": [],
   "source": [
    "# imports\n",
    "import panel as pn\n",
    "pn.extension('plotly')\n",
    "import plotly.express as px\n",
    "import pandas as pd\n",
    "import hvplot.pandas\n",
    "import matplotlib.pyplot as plt\n",
    "import os\n",
    "from pathlib import Path\n",
    "from dotenv import load_dotenv"
   ]
  },
  {
   "cell_type": "code",
   "execution_count": null,
   "metadata": {},
   "outputs": [],
   "source": [
    "# Initialize the Panel Extensions (for Plotly)\n",
    "import panel as pn\n",
    "pn.extension(\"plotly\")"
   ]
  },
  {
   "cell_type": "code",
   "execution_count": null,
   "metadata": {},
   "outputs": [],
   "source": [
    "# Read the Mapbox API key\n",
    "load_dotenv()\n",
    "map_box_api = os.getenv(\"mapbox\")\n",
    "px.set_mapbox_access_token(map_box_api)"
   ]
  },
  {
   "cell_type": "markdown",
   "metadata": {},
   "source": [
    "# Import Data"
   ]
  },
  {
   "cell_type": "code",
   "execution_count": null,
   "metadata": {},
   "outputs": [],
   "source": [
    "# Import the CSVs to Pandas DataFrames\n",
    "file_path = Path(\"Data/toronto_neighbourhoods_census_data.csv\")\n",
    "to_data = pd.read_csv(file_path, index_col=\"year\")\n",
    "\n",
    "file_path = Path(\"Data/toronto_neighbourhoods_coordinates.csv\")\n",
    "df_neighbourhood_locations = pd.read_csv(file_path)"
   ]
  },
  {
   "cell_type": "markdown",
   "metadata": {},
   "source": [
    "- - -"
   ]
  },
  {
   "cell_type": "markdown",
   "metadata": {},
   "source": [
    "## Panel Visualizations\n",
    "\n",
    "In this section, you will copy the code for each plot type from your analysis notebook and place it into separate functions that Panel can use to create panes for the dashboard. \n",
    "\n",
    "These functions will convert the plot object to a Panel pane.\n",
    "\n",
    "Be sure to include any DataFrame transformation/manipulation code required along with the plotting code.\n",
    "\n",
    "Return a Panel pane object from each function that can be used to build the dashboard.\n",
    "\n",
    "Note: Remove any `.show()` lines from the code. We want to return the plots instead of showing them. The Panel dashboard will then display the plots."
   ]
  },
  {
   "cell_type": "markdown",
   "metadata": {},
   "source": [
    "### Global available data"
   ]
  },
  {
   "cell_type": "code",
   "execution_count": null,
   "metadata": {},
   "outputs": [],
   "source": [
    "# Getting the data from the top 10 expensive neighbourhoods\n",
    "# YOUR CODE HERE!\n",
    "def top_most_expensive_neighborhoods():\n",
    "    \"\"\"Top 10 Most Expensive Neighborhoods.\"\"\"\n",
    "    \n",
    "    to_average_by_neighbourhood = to_data.groupby(by=[\"neighbourhood\"]).mean()\n",
    "    to_average_by_neighbourhood_descending = to_average_by_neighbourhood.sort_values('average_house_value', ascending=False)\n",
    "    to_average_by_neighbourhood = to_average_by_neighbourhood_descending.drop(columns = ['single_detached_house', 'apartment_five_storeys_plus', 'movable_dwelling', 'semi_detached_house', 'row_house', 'duplex', 'apartment_five_storeys_less', 'other_house', 'shelter_costs_owned', 'shelter_costs_rented'])\n",
    "\n",
    "    to_average_by_neighbourhood_top10 = to_average_by_neighbourhood_descending[:10].drop(columns = ['single_detached_house', 'apartment_five_storeys_plus', 'movable_dwelling', 'semi_detached_house', 'row_house', 'duplex', 'apartment_five_storeys_less', 'other_house', 'shelter_costs_owned', 'shelter_costs_rented'])\n",
    "    plot = to_average_by_neighbourhood_top10.plot.bar()\n",
    "\n",
    "    return plot\n",
    "\n",
    "# Calculate the mean number of dwelling types units per year\n",
    "# YOUR CODE HERE!\n",
    "def housing_units_per_year():\n",
    "    \"\"\"Housing Units Per Year.\"\"\"\n",
    "    dwelling_data = [\n",
    "    to_data.groupby('year').single_detached_house.sum(),\n",
    "    to_data.groupby('year').apartment_five_storeys_plus.sum(),\n",
    "    to_data.groupby('year').movable_dwelling.sum(),\n",
    "    to_data.groupby('year').semi_detached_house.sum(),\n",
    "    to_data.groupby('year').row_house.sum(),\n",
    "    to_data.groupby('year').duplex.sum(),\n",
    "    to_data.groupby('year').apartment_five_storeys_less.sum(),\n",
    "    to_data.groupby('year').other_house.sum()\n",
    "\n",
    "    ]\n",
    "\n",
    "    dwelling_df = pd.DataFrame(data = dwelling_data)\n",
    "    dwelling_df = dwelling_df.transpose()\n",
    "\n",
    "    bar_chart = dwelling_df.groupby('year')\n",
    "\n",
    "    plot = bar_chart.plot(kind = 'bar', figsize = (10,5))\n",
    "\n",
    "    return plot\n",
    "\n",
    "\n",
    "# Calculate the average monthly shelter costs for owned and rented dwellings\n",
    "# YOUR CODE HERE!\n",
    "def average_monthly_shelter_costs():\n",
    "    \"\"\"Average Monthly Shelter Costs\"\"\"\n",
    "    shelter_data = [\n",
    "    to_data.groupby('year').shelter_costs_owned.mean(),\n",
    "    to_data.groupby('year').shelter_costs_rented.mean()\n",
    "    ]\n",
    "\n",
    "    shelter_data_df = pd.DataFrame(data = shelter_data)\n",
    "    shelter_data_df = shelter_data_df.transpose()\n",
    "\n",
    "    #plots \n",
    "    owned_dwellings = shelter_data_df['shelter_costs_owned']\n",
    "\n",
    "    plot = owned_dwellings.plot.line(legend = True)\n",
    "\n",
    "    return plot\n",
    "\n",
    "    rented_dwellings = shelter_data_df['shelter_costs_rented']\n",
    "    plot = rented_dwellings.plot.line(legend = True)\n",
    "    \n",
    "    return plot\n",
    "\n",
    "\n"
   ]
  },
  {
   "cell_type": "markdown",
   "metadata": {},
   "source": [
    "### Panel Visualization Functions"
   ]
  },
  {
   "cell_type": "code",
   "execution_count": null,
   "metadata": {},
   "outputs": [],
   "source": [
    "# Define Panel visualization functions\n",
    "def neighbourhood_map():\n",
    "    \"\"\"Neighbourhood Map\"\"\"\n",
    "   \n",
    "    # YOUR CODE HERE!\n",
    "    to_average_by_neighbourhood.reset_index(inplace = True)\n",
    "    to_average_by_neighbourhood.set_index('neighbourhood', inplace = True)\n",
    "    to_average_by_neighbourhood.head()\n",
    "    \n",
    "    map_data = pd.concat([df_neighbourhood_locations, to_average_by_neighbourhood], axis = 1, join = 'inner')\n",
    "    map_data = map_data.drop(columns = 'index', axis=1)\n",
    "    \n",
    "    plot = px.scatter_mapbox(data_frame = map_data, lat = 'lat', lon = 'lon', color = 'average_house_value')\n",
    "\n",
    "    return plot\n",
    "    \n",
    "    \n",
    "\n",
    "def create_bar_chart(data, title, xlabel, ylabel, color):\n",
    "    \"\"\"\n",
    "    Create a barplot based in the data argument.\n",
    "    \"\"\"\n",
    "    \n",
    "    # YOUR CODE HERE!\n",
    "    bar_chart = dwelling_df.groupby('year')\n",
    "    plot = bar_chart.plot(kind = 'bar', figsize = (10,5))\n",
    "    \n",
    "    return plot\n",
    "\n",
    "def create_line_chart(data, title, xlabel, ylabel, color):\n",
    "    \"\"\"\n",
    "    Create a line chart based in the data argument.\n",
    "    \"\"\"\n",
    "    \n",
    "    # YOUR CODE HERE!\n",
    "    shelter_data = [\n",
    "    to_data.groupby('year').shelter_costs_owned.mean(),\n",
    "    to_data.groupby('year').shelter_costs_rented.mean()\n",
    "    ]\n",
    "\n",
    "    shelter_data_df = pd.DataFrame(data = shelter_data)\n",
    "    shelter_data_df = shelter_data_df.transpose()\n",
    "    \n",
    "    owned_dwellings = shelter_data_df['shelter_costs_owned']\n",
    "    plot1 = owned_dwellings.plot.line(legend = True)\n",
    "    \n",
    "    rented_dwellings = shelter_data_df['shelter_costs_rented']\n",
    "    plot2 = rented_dwellings.plot.line(legend = True)\n",
    "    \n",
    "    return(plot1,plot2)\n",
    "\n",
    "def average_house_value():\n",
    "    \"\"\"Average house values per year.\"\"\"\n",
    "    \n",
    "    # YOUR CODE HERE!\n",
    "    house_value = to_data.groupby('year').average_house_value.mean()\n",
    "    house_value_df = pd.DataFrame(data = house_value)  \n",
    "    \n",
    "    plot1=house_value_df.plot(kind = 'line', figsize = (10,5))\n",
    "    plot2=house_value_df.plot(kind = 'bar', figsize = (10,5))\n",
    "    \n",
    "    return(plot1,plot2)\n",
    "\n",
    "\n",
    "\n",
    "def average_value_by_neighbourhood():\n",
    "    \"\"\"Average house values by neighbourhood.\"\"\"\n",
    "    \n",
    "    # YOUR CODE HERE!\n",
    "    neighbourhood_house_data = to_data.groupby(by=['year', 'neighbourhood']).mean()\n",
    "    neighbourhood_house_df = pd.DataFrame(data = neighbourhood_house_data)\n",
    "    neighbourhood_house_df = neighbourhood_house_df.drop(['single_detached_house', 'apartment_five_storeys_plus', 'movable_dwelling', 'semi_detached_house', 'row_house', 'duplex', 'apartment_five_storeys_less', 'other_house', 'shelter_costs_owned', 'shelter_costs_rented'], axis = 1)\n",
    "\n",
    "    plot = neighbourhood_house_df.hvplot(kind='line', x = 'year', y = 'average_house_value', groupby='neighbourhood')\n",
    "\n",
    "\n",
    "    return plot\n",
    "\n",
    "\n",
    "def number_dwelling_types():\n",
    "    \"\"\"Number of dwelling types per year\"\"\"\n",
    "    \n",
    "    # YOUR CODE HERE!\n",
    "    sum_data = to_data.groupby(by=['year', 'neighbourhood']).sum()\n",
    "    plot_df = pd.DataFrame(data = sum_data)\n",
    "    plot_df = plot_df.drop(['shelter_costs_owned', 'shelter_costs_rented', 'average_house_value'], axis = 1)\n",
    "\n",
    "    plot = plot_df.hvplot(kind='bar', x = 'year', groupby='neighbourhood')\n",
    "    \n",
    "    return plot\n",
    "\n",
    "def average_house_value_snapshot():\n",
    "    \"\"\"Average house value for all Toronto's neighbourhoods per year.\"\"\"\n",
    "\n",
    "    # YOUR CODE HERE!\n",
    "\n",
    "def top_most_expensive_neighbourhoods():\n",
    "    \"\"\"Top 10 most expensive neighbourhoods.\"\"\"\n",
    "    \n",
    "    # YOUR CODE HERE!\n",
    "    to_average_by_neighbourhood = to_data.groupby(by=[\"neighbourhood\"]).mean()\n",
    "    to_average_by_neighbourhood_descending = to_average_by_neighbourhood.sort_values('average_house_value', ascending=False)\n",
    "    to_average_by_neighbourhood = to_average_by_neighbourhood_descending.drop(columns = ['single_detached_house', 'apartment_five_storeys_plus', 'movable_dwelling', 'semi_detached_house', 'row_house', 'duplex', 'apartment_five_storeys_less', 'other_house', 'shelter_costs_owned', 'shelter_costs_rented'])\n",
    "\n",
    "    to_average_by_neighbourhood_top10 = to_average_by_neighbourhood_descending[:10].drop(columns = ['single_detached_house', 'apartment_five_storeys_plus', 'movable_dwelling', 'semi_detached_house', 'row_house', 'duplex', 'apartment_five_storeys_less', 'other_house', 'shelter_costs_owned', 'shelter_costs_rented'])\n",
    "\n",
    "    plot = to_average_by_neighbourhood_top10.plot.bar()\n",
    "    \n",
    "    return plot\n",
    "\n",
    "def sunburts_cost_analysis():\n",
    "    \"\"\"Sunburst chart to conduct a costs analysis of most expensive neighbourhoods in Toronto per year.\"\"\"\n",
    "    \n",
    "    # YOUR CODE HERE!"
   ]
  },
  {
   "cell_type": "markdown",
   "metadata": {},
   "source": [
    "## Panel Dashboard\n",
    "\n",
    "In this section, you will combine all of the plots into a single dashboard view using Panel. Be creative with your dashboard design!"
   ]
  },
  {
   "cell_type": "code",
   "execution_count": null,
   "metadata": {},
   "outputs": [],
   "source": [
    "# Create a Title for the Dashboard\n",
    "# YOUR CODE HERE!\n",
    "\n",
    "\n",
    "# Define a welcome text\n",
    "# YOUR CODE HERE!\n",
    "\n",
    "welcome = (f\"Welcome to a visual representaiton of the Toronto Housing Data\", neighbourhood_map)\n",
    "\n",
    "# Create a tab layout for the dashboard\n",
    "#Columns First \n",
    "# YOUR CODE HERE!\n",
    "Dwelling_Types = pn.Column(\n",
    "    \"## Dwelling Type\", create_bar_chart, number_dwelling_types)\n",
    "\n",
    "Property_Values = pn.Column(\n",
    "    \"## Property Value Data\", top_most_expensive_neighbourhoods, average_house_value, average_value_by_neighbourhood\n",
    ")\n",
    "\n",
    "Shelter_Data = pn.Column(\n",
    "    \"## Shelter Data\", create_line_chart)\n",
    "\n",
    "#Tabs and Dashboard Creation\n",
    "Dashboard = pn.Tabs(\"Housing Data\", Dwelling_Types, Property_Values, Shelter_Data)\n",
    "\n",
    "# Create the main dashboard\n",
    "\n",
    "# YOUR CODE HERE!"
   ]
  },
  {
   "cell_type": "markdown",
   "metadata": {},
   "source": [
    "## Serve the Panel Dashboard"
   ]
  },
  {
   "cell_type": "code",
   "execution_count": null,
   "metadata": {},
   "outputs": [],
   "source": [
    "Dashboard.servable()"
   ]
  },
  {
   "cell_type": "markdown",
   "metadata": {},
   "source": [
    "# Debugging\n",
    "\n",
    "Note: Some of the Plotly express plots may not render in the notebook through the panel functions.\n",
    "\n",
    "However, you can test each plot by uncommenting the following code"
   ]
  },
  {
   "cell_type": "code",
   "execution_count": null,
   "metadata": {},
   "outputs": [],
   "source": [
    "# neighbourhood_map().show()"
   ]
  },
  {
   "cell_type": "code",
   "execution_count": null,
   "metadata": {},
   "outputs": [],
   "source": [
    "# create_bar_chart(data, title, xlabel, ylabel, color)\n",
    "\n",
    "# # Bar chart for 2001\n",
    "# create_bar_chart(df_dwelling_units.loc[2001], \"Dwelling Types in Toronto in 2001\", \"2001\", \"Dwelling Type Units\", \"red\")\n",
    "\n",
    "# # Bar chart for 2006\n",
    "# create_bar_chart(df_dwelling_units.loc[2006], \"Dwelling Types in Toronto in 2006\", \"2006\", \"Dwelling Type Units\", \"blue\")\n",
    "\n",
    "# # Bar chart for 2011\n",
    "# create_bar_chart(df_dwelling_units.loc[2011], \"Dwelling Types in Toronto in 2011\", \"2011\", \"Dwelling Type Units\", \"orange\")\n",
    "\n",
    "# # Bar chart for 2016\n",
    "# create_bar_chart(df_dwelling_units.loc[2016], \"Dwelling Types in Toronto in 2016\", \"2016\", \"Dwelling Type Units\", \"magenta\")"
   ]
  },
  {
   "cell_type": "code",
   "execution_count": null,
   "metadata": {},
   "outputs": [],
   "source": [
    "# create_line_chart(data, title, xlabel, ylabel, color)\n",
    "\n",
    "# # Line chart for owned dwellings\n",
    "# create_line_chart(df_avg_costs[\"shelter_costs_owned\"], \"Average Monthly Shelter Cost for Owned Dwellings in Toronto\", \"Year\", \"Avg Monthly Shelter Costs\", \"blue\")\n",
    "\n",
    "# # Line chart for rented dwellings\n",
    "# create_line_chart(df_avg_costs[\"shelter_costs_rented\"], \"Average Monthly Shelter Cost for Rented Dwellings in Toronto\", \"Year\", \"Avg Monthly Shelter Costs\", \"orange\")"
   ]
  },
  {
   "cell_type": "code",
   "execution_count": null,
   "metadata": {},
   "outputs": [],
   "source": [
    "# average_house_value()"
   ]
  },
  {
   "cell_type": "code",
   "execution_count": null,
   "metadata": {},
   "outputs": [],
   "source": [
    "# average_value_by_neighbourhood()"
   ]
  },
  {
   "cell_type": "code",
   "execution_count": null,
   "metadata": {},
   "outputs": [],
   "source": [
    "# number_dwelling_types()"
   ]
  },
  {
   "cell_type": "code",
   "execution_count": null,
   "metadata": {},
   "outputs": [],
   "source": [
    "# average_house_value_snapshot()"
   ]
  },
  {
   "cell_type": "code",
   "execution_count": null,
   "metadata": {},
   "outputs": [],
   "source": [
    "# top_most_expensive_neighbourhoods()"
   ]
  },
  {
   "cell_type": "code",
   "execution_count": null,
   "metadata": {},
   "outputs": [],
   "source": [
    "# sunburts_cost_analysis()"
   ]
  }
 ],
 "metadata": {
  "file_extension": ".py",
  "kernelspec": {
   "display_name": "Python [conda env:pyvizenv] *",
   "language": "python",
   "name": "conda-env-pyvizenv-py"
  },
  "language_info": {
   "codemirror_mode": {
    "name": "ipython",
    "version": 3
   },
   "file_extension": ".py",
   "mimetype": "text/x-python",
   "name": "python",
   "nbconvert_exporter": "python",
   "pygments_lexer": "ipython3",
   "version": "3.7.9"
  },
  "mimetype": "text/x-python",
  "name": "python",
  "npconvert_exporter": "python",
  "pygments_lexer": "ipython3",
  "version": 3
 },
 "nbformat": 4,
 "nbformat_minor": 4
}
